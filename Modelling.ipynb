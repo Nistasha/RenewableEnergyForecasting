{
 "cells": [
  {
   "cell_type": "markdown",
   "id": "2dcd0b01-40c4-458a-9967-76e45860194b",
   "metadata": {},
   "source": [
    "Importing Libraries for Data Analysis, Data Visualization and Machine learning tasks"
   ]
  },
  {
   "cell_type": "code",
   "execution_count": 1,
   "id": "cd61f86c-50d5-4eec-8baf-c113445ea50e",
   "metadata": {},
   "outputs": [],
   "source": [
    "import numpy as np\n",
    "import pandas as pd\n",
    "from scipy import stats\n",
    "import glob as gb\n",
    "import warnings\n",
    "import seaborn as sns\n",
    "import matplotlib.pyplot as plt\n",
    "from sklearn.preprocessing import StandardScaler\n",
    "from statsmodels.tsa.seasonal import STL\n",
    "from statsmodels.tsa.seasonal import seasonal_decompose\n",
    "from sklearn.impute import SimpleImputer\n",
    "from sklearn.model_selection import train_test_split\n",
    "from sklearn.tree import DecisionTreeClassifier\n",
    "from sklearn.ensemble import RandomForestClassifier\n",
    "from sklearn.linear_model import LogisticRegression\n",
    "from sklearn.datasets import load_iris\n",
    "from sklearn.metrics import classification_report, f1_score, accuracy_score, confusion_matrix, ConfusionMatrixDisplay\n",
    "from sklearn import metrics\n",
    "from sklearn.neighbors import KNeighborsClassifier\n",
    "from sklearn.preprocessing import LabelEncoder\n",
    "from sklearn.svm import SVC\n",
    "from sklearn.metrics import accuracy_score, classification_report\n",
    "from sklearn.ensemble import RandomForestClassifier\n",
    "from sklearn.datasets import load_iris\n",
    "warnings.filterwarnings('ignore')"
   ]
  },
  {
   "cell_type": "code",
   "execution_count": 2,
   "id": "22ee5059-834a-496c-8765-8a802360a7f2",
   "metadata": {},
   "outputs": [
    {
     "data": {
      "text/html": [
       "<div>\n",
       "<style scoped>\n",
       "    .dataframe tbody tr th:only-of-type {\n",
       "        vertical-align: middle;\n",
       "    }\n",
       "\n",
       "    .dataframe tbody tr th {\n",
       "        vertical-align: top;\n",
       "    }\n",
       "\n",
       "    .dataframe thead th {\n",
       "        text-align: right;\n",
       "    }\n",
       "</style>\n",
       "<table border=\"1\" class=\"dataframe\">\n",
       "  <thead>\n",
       "    <tr style=\"text-align: right;\">\n",
       "      <th></th>\n",
       "      <th>temp</th>\n",
       "      <th>humidity</th>\n",
       "      <th>precip</th>\n",
       "      <th>precipprob</th>\n",
       "      <th>preciptype</th>\n",
       "      <th>snow</th>\n",
       "      <th>snowdepth</th>\n",
       "      <th>windspeed</th>\n",
       "      <th>winddir</th>\n",
       "      <th>sealevelpressure</th>\n",
       "      <th>cloudcover</th>\n",
       "      <th>solarradiation</th>\n",
       "      <th>uvindex</th>\n",
       "      <th>year</th>\n",
       "      <th>month</th>\n",
       "      <th>day</th>\n",
       "      <th>solar_energy_generation</th>\n",
       "      <th>surplus_status</th>\n",
       "    </tr>\n",
       "  </thead>\n",
       "  <tbody>\n",
       "    <tr>\n",
       "      <th>0</th>\n",
       "      <td>1.9</td>\n",
       "      <td>84.25</td>\n",
       "      <td>0.417</td>\n",
       "      <td>100.0</td>\n",
       "      <td>1</td>\n",
       "      <td>0.0</td>\n",
       "      <td>0.0</td>\n",
       "      <td>19.4</td>\n",
       "      <td>11.0</td>\n",
       "      <td>999.9</td>\n",
       "      <td>62.2</td>\n",
       "      <td>0.0</td>\n",
       "      <td>0.0</td>\n",
       "      <td>2010</td>\n",
       "      <td>1</td>\n",
       "      <td>1</td>\n",
       "      <td>0.0</td>\n",
       "      <td>0.0</td>\n",
       "    </tr>\n",
       "    <tr>\n",
       "      <th>1</th>\n",
       "      <td>1.9</td>\n",
       "      <td>83.90</td>\n",
       "      <td>0.000</td>\n",
       "      <td>0.0</td>\n",
       "      <td>3</td>\n",
       "      <td>0.0</td>\n",
       "      <td>0.0</td>\n",
       "      <td>21.8</td>\n",
       "      <td>19.0</td>\n",
       "      <td>999.8</td>\n",
       "      <td>22.4</td>\n",
       "      <td>0.0</td>\n",
       "      <td>0.0</td>\n",
       "      <td>2010</td>\n",
       "      <td>1</td>\n",
       "      <td>1</td>\n",
       "      <td>0.0</td>\n",
       "      <td>0.0</td>\n",
       "    </tr>\n",
       "    <tr>\n",
       "      <th>2</th>\n",
       "      <td>1.4</td>\n",
       "      <td>85.76</td>\n",
       "      <td>0.000</td>\n",
       "      <td>0.0</td>\n",
       "      <td>3</td>\n",
       "      <td>0.0</td>\n",
       "      <td>0.0</td>\n",
       "      <td>17.7</td>\n",
       "      <td>10.0</td>\n",
       "      <td>1000.0</td>\n",
       "      <td>38.0</td>\n",
       "      <td>0.0</td>\n",
       "      <td>0.0</td>\n",
       "      <td>2010</td>\n",
       "      <td>1</td>\n",
       "      <td>1</td>\n",
       "      <td>0.0</td>\n",
       "      <td>0.0</td>\n",
       "    </tr>\n",
       "    <tr>\n",
       "      <th>3</th>\n",
       "      <td>1.4</td>\n",
       "      <td>85.69</td>\n",
       "      <td>0.000</td>\n",
       "      <td>0.0</td>\n",
       "      <td>3</td>\n",
       "      <td>0.0</td>\n",
       "      <td>0.0</td>\n",
       "      <td>18.0</td>\n",
       "      <td>11.0</td>\n",
       "      <td>1000.2</td>\n",
       "      <td>66.7</td>\n",
       "      <td>0.0</td>\n",
       "      <td>0.0</td>\n",
       "      <td>2010</td>\n",
       "      <td>1</td>\n",
       "      <td>1</td>\n",
       "      <td>0.0</td>\n",
       "      <td>0.0</td>\n",
       "    </tr>\n",
       "    <tr>\n",
       "      <th>4</th>\n",
       "      <td>1.3</td>\n",
       "      <td>85.72</td>\n",
       "      <td>0.000</td>\n",
       "      <td>0.0</td>\n",
       "      <td>3</td>\n",
       "      <td>0.0</td>\n",
       "      <td>0.0</td>\n",
       "      <td>17.4</td>\n",
       "      <td>10.0</td>\n",
       "      <td>1000.5</td>\n",
       "      <td>62.8</td>\n",
       "      <td>0.0</td>\n",
       "      <td>0.0</td>\n",
       "      <td>2010</td>\n",
       "      <td>1</td>\n",
       "      <td>1</td>\n",
       "      <td>0.0</td>\n",
       "      <td>0.0</td>\n",
       "    </tr>\n",
       "    <tr>\n",
       "      <th>...</th>\n",
       "      <td>...</td>\n",
       "      <td>...</td>\n",
       "      <td>...</td>\n",
       "      <td>...</td>\n",
       "      <td>...</td>\n",
       "      <td>...</td>\n",
       "      <td>...</td>\n",
       "      <td>...</td>\n",
       "      <td>...</td>\n",
       "      <td>...</td>\n",
       "      <td>...</td>\n",
       "      <td>...</td>\n",
       "      <td>...</td>\n",
       "      <td>...</td>\n",
       "      <td>...</td>\n",
       "      <td>...</td>\n",
       "      <td>...</td>\n",
       "      <td>...</td>\n",
       "    </tr>\n",
       "    <tr>\n",
       "      <th>122815</th>\n",
       "      <td>4.8</td>\n",
       "      <td>92.02</td>\n",
       "      <td>0.000</td>\n",
       "      <td>0.0</td>\n",
       "      <td>3</td>\n",
       "      <td>0.0</td>\n",
       "      <td>0.0</td>\n",
       "      <td>17.7</td>\n",
       "      <td>278.0</td>\n",
       "      <td>999.0</td>\n",
       "      <td>45.3</td>\n",
       "      <td>0.0</td>\n",
       "      <td>0.0</td>\n",
       "      <td>2024</td>\n",
       "      <td>1</td>\n",
       "      <td>5</td>\n",
       "      <td>0.0</td>\n",
       "      <td>0.0</td>\n",
       "    </tr>\n",
       "    <tr>\n",
       "      <th>122816</th>\n",
       "      <td>4.9</td>\n",
       "      <td>93.24</td>\n",
       "      <td>0.000</td>\n",
       "      <td>0.0</td>\n",
       "      <td>3</td>\n",
       "      <td>0.0</td>\n",
       "      <td>0.0</td>\n",
       "      <td>18.0</td>\n",
       "      <td>271.0</td>\n",
       "      <td>999.9</td>\n",
       "      <td>27.4</td>\n",
       "      <td>0.0</td>\n",
       "      <td>0.0</td>\n",
       "      <td>2024</td>\n",
       "      <td>1</td>\n",
       "      <td>5</td>\n",
       "      <td>0.0</td>\n",
       "      <td>0.0</td>\n",
       "    </tr>\n",
       "    <tr>\n",
       "      <th>122817</th>\n",
       "      <td>4.9</td>\n",
       "      <td>92.77</td>\n",
       "      <td>0.000</td>\n",
       "      <td>0.0</td>\n",
       "      <td>3</td>\n",
       "      <td>0.0</td>\n",
       "      <td>0.0</td>\n",
       "      <td>14.9</td>\n",
       "      <td>271.0</td>\n",
       "      <td>1000.9</td>\n",
       "      <td>25.0</td>\n",
       "      <td>33.0</td>\n",
       "      <td>0.0</td>\n",
       "      <td>2024</td>\n",
       "      <td>1</td>\n",
       "      <td>5</td>\n",
       "      <td>0.1</td>\n",
       "      <td>0.0</td>\n",
       "    </tr>\n",
       "    <tr>\n",
       "      <th>122818</th>\n",
       "      <td>5.9</td>\n",
       "      <td>87.12</td>\n",
       "      <td>0.000</td>\n",
       "      <td>0.0</td>\n",
       "      <td>3</td>\n",
       "      <td>0.0</td>\n",
       "      <td>0.0</td>\n",
       "      <td>20.1</td>\n",
       "      <td>279.0</td>\n",
       "      <td>1001.9</td>\n",
       "      <td>25.0</td>\n",
       "      <td>70.0</td>\n",
       "      <td>1.0</td>\n",
       "      <td>2024</td>\n",
       "      <td>1</td>\n",
       "      <td>5</td>\n",
       "      <td>0.3</td>\n",
       "      <td>0.0</td>\n",
       "    </tr>\n",
       "    <tr>\n",
       "      <th>122819</th>\n",
       "      <td>5.9</td>\n",
       "      <td>92.83</td>\n",
       "      <td>0.000</td>\n",
       "      <td>0.0</td>\n",
       "      <td>3</td>\n",
       "      <td>0.0</td>\n",
       "      <td>0.0</td>\n",
       "      <td>16.4</td>\n",
       "      <td>290.0</td>\n",
       "      <td>1002.0</td>\n",
       "      <td>29.7</td>\n",
       "      <td>111.0</td>\n",
       "      <td>1.0</td>\n",
       "      <td>2024</td>\n",
       "      <td>1</td>\n",
       "      <td>5</td>\n",
       "      <td>0.4</td>\n",
       "      <td>1.0</td>\n",
       "    </tr>\n",
       "  </tbody>\n",
       "</table>\n",
       "<p>122820 rows × 18 columns</p>\n",
       "</div>"
      ],
      "text/plain": [
       "        temp  humidity  precip  precipprob  preciptype  snow  snowdepth  \\\n",
       "0        1.9     84.25   0.417       100.0           1   0.0        0.0   \n",
       "1        1.9     83.90   0.000         0.0           3   0.0        0.0   \n",
       "2        1.4     85.76   0.000         0.0           3   0.0        0.0   \n",
       "3        1.4     85.69   0.000         0.0           3   0.0        0.0   \n",
       "4        1.3     85.72   0.000         0.0           3   0.0        0.0   \n",
       "...      ...       ...     ...         ...         ...   ...        ...   \n",
       "122815   4.8     92.02   0.000         0.0           3   0.0        0.0   \n",
       "122816   4.9     93.24   0.000         0.0           3   0.0        0.0   \n",
       "122817   4.9     92.77   0.000         0.0           3   0.0        0.0   \n",
       "122818   5.9     87.12   0.000         0.0           3   0.0        0.0   \n",
       "122819   5.9     92.83   0.000         0.0           3   0.0        0.0   \n",
       "\n",
       "        windspeed  winddir  sealevelpressure  cloudcover  solarradiation  \\\n",
       "0            19.4     11.0             999.9        62.2             0.0   \n",
       "1            21.8     19.0             999.8        22.4             0.0   \n",
       "2            17.7     10.0            1000.0        38.0             0.0   \n",
       "3            18.0     11.0            1000.2        66.7             0.0   \n",
       "4            17.4     10.0            1000.5        62.8             0.0   \n",
       "...           ...      ...               ...         ...             ...   \n",
       "122815       17.7    278.0             999.0        45.3             0.0   \n",
       "122816       18.0    271.0             999.9        27.4             0.0   \n",
       "122817       14.9    271.0            1000.9        25.0            33.0   \n",
       "122818       20.1    279.0            1001.9        25.0            70.0   \n",
       "122819       16.4    290.0            1002.0        29.7           111.0   \n",
       "\n",
       "        uvindex  year  month  day  solar_energy_generation  surplus_status  \n",
       "0           0.0  2010      1    1                      0.0             0.0  \n",
       "1           0.0  2010      1    1                      0.0             0.0  \n",
       "2           0.0  2010      1    1                      0.0             0.0  \n",
       "3           0.0  2010      1    1                      0.0             0.0  \n",
       "4           0.0  2010      1    1                      0.0             0.0  \n",
       "...         ...   ...    ...  ...                      ...             ...  \n",
       "122815      0.0  2024      1    5                      0.0             0.0  \n",
       "122816      0.0  2024      1    5                      0.0             0.0  \n",
       "122817      0.0  2024      1    5                      0.1             0.0  \n",
       "122818      1.0  2024      1    5                      0.3             0.0  \n",
       "122819      1.0  2024      1    5                      0.4             1.0  \n",
       "\n",
       "[122820 rows x 18 columns]"
      ]
     },
     "execution_count": 2,
     "metadata": {},
     "output_type": "execute_result"
    }
   ],
   "source": [
    "# Load CSV file\n",
    "final_df = pd.read_csv('final_dataframe.csv')\n",
    "final_df"
   ]
  },
  {
   "cell_type": "markdown",
   "id": "1af1fcb5-c5b3-4b36-9985-5bd3b4747c30",
   "metadata": {},
   "source": [
    "MODELLING"
   ]
  },
  {
   "cell_type": "markdown",
   "id": "e931af74-42a1-45a8-8466-ad3d3c1407d9",
   "metadata": {},
   "source": [
    "Splitting the dataset :- Split dataset: Training (80%), Test (20%) sets, essential for model training, and performance evaluation."
   ]
  },
  {
   "cell_type": "code",
   "execution_count": 3,
   "id": "2c09329e-108f-4379-ac55-9a6991b2fe16",
   "metadata": {},
   "outputs": [],
   "source": [
    "# Split the dataset into features (X) and target variable (y)\n",
    "X = final_df.drop('surplus_status', axis=1)  # Features\n",
    "y = final_df['surplus_status']  # Target variable\n",
    "\n",
    "# Split the dataset into training and testing sets (80% train, 20% test)\n",
    "X_train, X_test, y_train, y_test = train_test_split(X, y, test_size=0.2)"
   ]
  },
  {
   "cell_type": "code",
   "execution_count": 4,
   "id": "d0bc08c1-48c6-497d-8add-e0ce8f266fd1",
   "metadata": {},
   "outputs": [],
   "source": [
    "scaler = StandardScaler()\n",
    "X_train_scaled = scaler.fit_transform(X_train)\n",
    "X_test_scaled = scaler.transform(X_test)"
   ]
  },
  {
   "cell_type": "markdown",
   "id": "f2ee204d-625e-49ca-99d6-91693ff13237",
   "metadata": {},
   "source": [
    "1. Random Forest Classification :-  It is a versatile and powerful machine learning algorithm commonly used for both classification. It is an ensemble learning method that builds multiple decision trees during training and outputs the mode."
   ]
  },
  {
   "cell_type": "code",
   "execution_count": 5,
   "id": "bf965bf3-80f6-41b6-84fa-5ed6812b3d8f",
   "metadata": {},
   "outputs": [
    {
     "name": "stdout",
     "output_type": "stream",
     "text": [
      "Accuracy: 0.7570021169190686\n",
      "              precision    recall  f1-score   support\n",
      "\n",
      "         0.0       0.74      0.65      0.69     10187\n",
      "         1.0       0.77      0.84      0.80     14377\n",
      "\n",
      "    accuracy                           0.76     24564\n",
      "   macro avg       0.75      0.74      0.74     24564\n",
      "weighted avg       0.76      0.76      0.75     24564\n",
      "\n"
     ]
    },
    {
     "data": {
      "image/png": "[encoded data removed]",
      "text/plain": [
       "<Figure size 800x600 with 2 Axes>"
      ]
     },
     "metadata": {},
     "output_type": "display_data"
    }
   ],
   "source": [
    "#1.Random Forest Classification\n",
    "\n",
    "rf_classifier = RandomForestClassifier()\n",
    "\n",
    "# Train the model on the training data\n",
    "rf_classifier.fit(X_train_scaled, y_train)\n",
    "\n",
    "# Make predictions on the testing data\n",
    "y_pred1 = rf_classifier.predict(X_test_scaled)\n",
    "\n",
    "# Evaluate the model's performance\n",
    "accuracy = accuracy_score(y_test, y_pred1)\n",
    "print(\"Accuracy:\", accuracy)\n",
    "\n",
    "# Print classification report with precision, recall, and F1-score\n",
    "print(classification_report(y_test, y_pred1))\n",
    "\n",
    "# Calculate the confusion matrix\n",
    "conf_matrix = confusion_matrix(y_test, y_pred1)\n",
    "\n",
    "# Visualize the confusion matrix\n",
    "plt.figure(figsize=(8, 6))\n",
    "sns.heatmap(conf_matrix, annot=True, fmt='d', cmap='Blues', \n",
    "            xticklabels=rf_classifier.classes_,\n",
    "            yticklabels=rf_classifier.classes_)\n",
    "plt.xlabel('Predicted Labels')\n",
    "plt.ylabel('True Labels')\n",
    "plt.title('Confusion Matrix')\n",
    "plt.show()"
   ]
  },
  {
   "cell_type": "code",
   "execution_count": 6,
   "id": "fd332a78-675e-4225-9083-0780096c19f4",
   "metadata": {},
   "outputs": [
    {
     "name": "stdout",
     "output_type": "stream",
     "text": [
      "Number of false positives: 3606\n"
     ]
    }
   ],
   "source": [
    "# Calculate false positives\n",
    "false_positives = sum((y_pred1 == 1) & (y_test == 0))\n",
    "\n",
    "print(\"Number of false positives:\", false_positives)"
   ]
  },
  {
   "cell_type": "code",
   "execution_count": 7,
   "id": "8e3a4614-b87e-48fc-a2d6-3033722759bc",
   "metadata": {},
   "outputs": [
    {
     "name": "stdout",
     "output_type": "stream",
     "text": [
      "Number of true negatives: 6581\n"
     ]
    }
   ],
   "source": [
    "# Calculate true negatives\n",
    "true_negatives = sum((y_pred1 == 0) & (y_test == 0))\n",
    "\n",
    "print(\"Number of true negatives:\", true_negatives)"
   ]
  },
  {
   "cell_type": "code",
   "execution_count": 8,
   "id": "aca72b09-f293-4138-8196-ceb29458d796",
   "metadata": {
    "scrolled": true
   },
   "outputs": [
    {
     "name": "stdout",
     "output_type": "stream",
     "text": [
      "False Positive Rate :  0.3539805634632375\n"
     ]
    }
   ],
   "source": [
    "#Calculate the False positive rates\n",
    "FPR = false_positives / (false_positives + true_negatives)\n",
    "print(\"False Positive Rate : \", FPR)"
   ]
  },
  {
   "cell_type": "markdown",
   "id": "97a5005b-a5bf-4010-baab-53df6f18eba4",
   "metadata": {},
   "source": [
    "2. Decission Tree :- It is an algorithm used for both classification and regression tasks. It works by recursively partitioning the data into subsets based on the values of input features, with the goal of maximizing the homogeneity of the target variable within each subset."
   ]
  },
  {
   "cell_type": "code",
   "execution_count": 9,
   "id": "54c3db81-6380-4ce5-b791-6dcf32c82e61",
   "metadata": {},
   "outputs": [
    {
     "name": "stdout",
     "output_type": "stream",
     "text": [
      "Accuracy: 0.6670737664875428\n",
      "              precision    recall  f1-score   support\n",
      "\n",
      "         0.0       0.60      0.60      0.60     10187\n",
      "         1.0       0.72      0.71      0.71     14377\n",
      "\n",
      "    accuracy                           0.67     24564\n",
      "   macro avg       0.66      0.66      0.66     24564\n",
      "weighted avg       0.67      0.67      0.67     24564\n",
      "\n"
     ]
    },
    {
     "data": {
      "image/png": "[encoded data removed]",
      "text/plain": [
       "<Figure size 800x600 with 2 Axes>"
      ]
     },
     "metadata": {},
     "output_type": "display_data"
    }
   ],
   "source": [
    "#2. Decission Tree\n",
    "\n",
    "# Initialize the Decision Tree classifier\n",
    "model1 = DecisionTreeClassifier()\n",
    "\n",
    "# Train the model on the training data\n",
    "model1.fit(X_train, y_train)\n",
    "\n",
    "# Make predictions on the testing data\n",
    "y_pred2 = model1.predict(X_test)\n",
    "\n",
    "# Evaluate the model's performance\n",
    "accuracy = accuracy_score(y_test, y_pred2)\n",
    "print(\"Accuracy:\", accuracy)\n",
    "\n",
    "# Print classification report with precision, recall, and F1-score\n",
    "print(classification_report(y_test, y_pred2))\n",
    "\n",
    "# Calculate the confusion matrix\n",
    "conf_matrix = confusion_matrix(y_test, y_pred2)\n",
    "\n",
    "# Visualize the confusion matrix\n",
    "plt.figure(figsize=(8, 6))\n",
    "sns.heatmap(conf_matrix, annot=True, fmt='d', cmap='Blues', \n",
    "            xticklabels=rf_classifier.classes_,\n",
    "            yticklabels=rf_classifier.classes_)\n",
    "plt.xlabel('Predicted Labels')\n",
    "plt.ylabel('True Labels')\n",
    "plt.title('Confusion Matrix')\n",
    "plt.show()"
   ]
  },
  {
   "cell_type": "code",
   "execution_count": 10,
   "id": "2dbb08c7-989c-4b54-9936-7a0a2a32b287",
   "metadata": {},
   "outputs": [
    {
     "name": "stdout",
     "output_type": "stream",
     "text": [
      "Number of false positives: 4050\n"
     ]
    }
   ],
   "source": [
    "# Calculate false positives\n",
    "false_positives = sum((y_pred2 == 1) & (y_test == 0))\n",
    "\n",
    "print(\"Number of false positives:\", false_positives)"
   ]
  },
  {
   "cell_type": "code",
   "execution_count": 11,
   "id": "08751bde-97c6-4cbc-bf0c-dd3bbd0a6e69",
   "metadata": {},
   "outputs": [
    {
     "name": "stdout",
     "output_type": "stream",
     "text": [
      "Number of true negatives: 6581\n"
     ]
    }
   ],
   "source": [
    "# Calculate true negatives\n",
    "true_negatives = sum((y_pred1 == 0) & (y_test == 0))\n",
    "\n",
    "print(\"Number of true negatives:\", true_negatives)"
   ]
  },
  {
   "cell_type": "code",
   "execution_count": 12,
   "id": "7b9d9cdc-5d30-4f7a-b760-0a78f0d40c12",
   "metadata": {},
   "outputs": [
    {
     "name": "stdout",
     "output_type": "stream",
     "text": [
      "False Positive Rate :  0.3809613394788825\n"
     ]
    }
   ],
   "source": [
    "#Calculate the False positive rates\n",
    "FPR = false_positives / (false_positives + true_negatives)\n",
    "print(\"False Positive Rate : \", FPR)"
   ]
  },
  {
   "cell_type": "markdown",
   "id": "edf3bda4-1304-4cc6-a549-a1ea529ce738",
   "metadata": {},
   "source": [
    "3. K-Nearest Neighbors (KNN) :- It is an algorithm used for both classification and regression tasks. It is a non-parametric method that doesn't make any assumptions about the underlying data distribution."
   ]
  },
  {
   "cell_type": "code",
   "execution_count": 13,
   "id": "cb2c834d-8d02-453d-b2d5-2970162c3f90",
   "metadata": {},
   "outputs": [
    {
     "name": "stdout",
     "output_type": "stream",
     "text": [
      "Accuracy: 0.6538023123269826\n",
      "              precision    recall  f1-score   support\n",
      "\n",
      "         0.0       0.59      0.54      0.56     10187\n",
      "         1.0       0.69      0.74      0.71     14377\n",
      "\n",
      "    accuracy                           0.65     24564\n",
      "   macro avg       0.64      0.64      0.64     24564\n",
      "weighted avg       0.65      0.65      0.65     24564\n",
      "\n"
     ]
    },
    {
     "data": {
      "image/png": "[encoded data removed]",
      "text/plain": [
       "<Figure size 800x600 with 2 Axes>"
      ]
     },
     "metadata": {},
     "output_type": "display_data"
    }
   ],
   "source": [
    "#K-Nearest Neighbors (KNN)\n",
    "\n",
    "# Initialize the KNN classifier with k=5 (you can change the value of k as needed)\n",
    "model4 = KNeighborsClassifier(n_neighbors=5)\n",
    "\n",
    "# Train the model on the training data\n",
    "model4.fit(X_train, y_train)\n",
    "\n",
    "# Make predictions on the testing data\n",
    "y_pred3 = model4.predict(X_test)\n",
    "\n",
    "# Evaluate the model's performance\n",
    "accuracy = accuracy_score(y_test, y_pred3)\n",
    "print(\"Accuracy:\", accuracy)\n",
    "\n",
    "# Print classification report with precision, recall, and F1-score\n",
    "print(classification_report(y_test, y_pred3))\n",
    "\n",
    "# Calculate the confusion matrix\n",
    "conf_matrix = confusion_matrix(y_test, y_pred3)\n",
    "\n",
    "# Visualize the confusion matrix\n",
    "plt.figure(figsize=(8, 6))\n",
    "sns.heatmap(conf_matrix, annot=True, fmt='d', cmap='Blues', \n",
    "            xticklabels=rf_classifier.classes_,\n",
    "            yticklabels=rf_classifier.classes_)\n",
    "plt.xlabel('Predicted Labels')\n",
    "plt.ylabel('True Labels')\n",
    "plt.title('Confusion Matrix')\n",
    "plt.show()"
   ]
  },
  {
   "cell_type": "code",
   "execution_count": 14,
   "id": "4af3aba6-3be7-4842-bf87-c9c5b401a1ca",
   "metadata": {},
   "outputs": [
    {
     "name": "stdout",
     "output_type": "stream",
     "text": [
      "Number of false positives: 4734\n"
     ]
    }
   ],
   "source": [
    "# Calculate false positives\n",
    "false_positives = sum((y_pred3 == 1) & (y_test == 0))\n",
    "\n",
    "print(\"Number of false positives:\", false_positives)"
   ]
  },
  {
   "cell_type": "code",
   "execution_count": 15,
   "id": "d279422d-fede-4bea-aa29-1685ce843511",
   "metadata": {},
   "outputs": [
    {
     "name": "stdout",
     "output_type": "stream",
     "text": [
      "Number of true negatives: 6581\n"
     ]
    }
   ],
   "source": [
    "# Calculate true negatives\n",
    "true_negatives = sum((y_pred1 == 0) & (y_test == 0))\n",
    "\n",
    "print(\"Number of true negatives:\", true_negatives)"
   ]
  },
  {
   "cell_type": "code",
   "execution_count": 16,
   "id": "bd4f7e9c-fa67-408a-a005-3ad1e09f33bf",
   "metadata": {
    "scrolled": true
   },
   "outputs": [
    {
     "name": "stdout",
     "output_type": "stream",
     "text": [
      "False Positive Rate :  0.4183826778612461\n"
     ]
    }
   ],
   "source": [
    "#Calculate the False positive rates\n",
    "FPR = false_positives / (false_positives + true_negatives)\n",
    "print(\"False Positive Rate : \", FPR)"
   ]
  },
  {
   "cell_type": "markdown",
   "id": "ab7a8c80-90a8-48c6-95b0-bb2e8bbee62f",
   "metadata": {},
   "source": [
    "4. Logistic Regression:- Logistic Regression is a statistical method used for binary classification tasks, where the goal is to predict the probability that an observation belongs to one of two possible classes."
   ]
  },
  {
   "cell_type": "code",
   "execution_count": 17,
   "id": "9691ab21-b822-4314-87b8-b132ec9025f8",
   "metadata": {},
   "outputs": [
    {
     "name": "stdout",
     "output_type": "stream",
     "text": [
      "Accuracy: 0.647532975085491\n",
      "              precision    recall  f1-score   support\n",
      "\n",
      "         0.0       0.59      0.48      0.53     10187\n",
      "         1.0       0.68      0.76      0.72     14377\n",
      "\n",
      "    accuracy                           0.65     24564\n",
      "   macro avg       0.63      0.62      0.62     24564\n",
      "weighted avg       0.64      0.65      0.64     24564\n",
      "\n"
     ]
    },
    {
     "data": {
      "image/png": "[encoded data removed]",
      "text/plain": [
       "<Figure size 800x600 with 2 Axes>"
      ]
     },
     "metadata": {},
     "output_type": "display_data"
    }
   ],
   "source": [
    "# Create a logistic regression model\n",
    "log_reg = LogisticRegression()\n",
    "\n",
    "# Fit the model to the training data\n",
    "log_reg.fit(X_train, y_train)\n",
    "\n",
    "# Make predictions on the testing data\n",
    "y_pred4 = log_reg.predict(X_test)\n",
    "\n",
    "# Calculate the accuracy of the model\n",
    "accuracy = accuracy_score(y_test, y_pred4)\n",
    "print(\"Accuracy:\", accuracy)\n",
    "\n",
    "# Print classification report with precision, recall, and F1-score\n",
    "print(classification_report(y_test, y_pred4))\n",
    "\n",
    "# Calculate the confusion matrix\n",
    "conf_matrix = confusion_matrix(y_test, y_pred4)\n",
    "\n",
    "# Visualize the confusion matrix\n",
    "plt.figure(figsize=(8, 6))\n",
    "sns.heatmap(conf_matrix, annot=True, fmt='d', cmap='Blues', \n",
    "            xticklabels=rf_classifier.classes_,\n",
    "            yticklabels=rf_classifier.classes_)\n",
    "plt.xlabel('Predicted Labels')\n",
    "plt.ylabel('True Labels')\n",
    "plt.title('Confusion Matrix')\n",
    "plt.show()"
   ]
  },
  {
   "cell_type": "code",
   "execution_count": 18,
   "id": "09baa424-15ee-40c2-a00a-3858034751f6",
   "metadata": {},
   "outputs": [
    {
     "name": "stdout",
     "output_type": "stream",
     "text": [
      "Number of false positives: 5258\n"
     ]
    }
   ],
   "source": [
    "# Calculate false positives\n",
    "false_positives = sum((y_pred4 == 1) & (y_test == 0))\n",
    "\n",
    "print(\"Number of false positives:\", false_positives)"
   ]
  },
  {
   "cell_type": "code",
   "execution_count": 19,
   "id": "d9392269-1ec7-409f-ba3c-ed769b7356c8",
   "metadata": {},
   "outputs": [
    {
     "name": "stdout",
     "output_type": "stream",
     "text": [
      "Number of true negatives: 6581\n"
     ]
    }
   ],
   "source": [
    "# Calculate true negatives\n",
    "true_negatives = sum((y_pred1 == 0) & (y_test == 0))\n",
    "\n",
    "print(\"Number of true negatives:\", true_negatives)"
   ]
  },
  {
   "cell_type": "code",
   "execution_count": 20,
   "id": "306ef5f2-4d7d-4d57-9b9d-e72e4b178353",
   "metadata": {},
   "outputs": [
    {
     "name": "stdout",
     "output_type": "stream",
     "text": [
      "False Positive Rate :  0.44412534842469803\n"
     ]
    }
   ],
   "source": [
    "#Calculate the False positive rates\n",
    "FPR = false_positives / (false_positives + true_negatives)\n",
    "print(\"False Positive Rate : \", FPR)"
   ]
  }
 ],
 "metadata": {
  "kernelspec": {
   "display_name": "Python 3 (ipykernel)",
   "language": "python",
   "name": "python3"
  },
  "language_info": {
   "codemirror_mode": {
    "name": "ipython",
    "version": 3
   },
   "file_extension": ".py",
   "mimetype": "text/x-python",
   "name": "python",
   "nbconvert_exporter": "python",
   "pygments_lexer": "ipython3",
   "version": "3.12.2"
  }
 },
 "nbformat": 4,
 "nbformat_minor": 5
}
